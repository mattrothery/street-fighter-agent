{
  "nbformat": 4,
  "nbformat_minor": 0,
  "metadata": {
    "colab": {
      "name": "Streetfighter Agent.ipynb",
      "provenance": [],
      "collapsed_sections": [],
      "mount_file_id": "1R2tMRPWGRiRPGc9CrawEdFw3lgCHd6pp",
      "authorship_tag": "ABX9TyNlfeChjQkEkxMYcdW62GsX",
      "include_colab_link": true
    },
    "kernelspec": {
      "name": "python3",
      "display_name": "Python 3"
    },
    "language_info": {
      "name": "python"
    },
    "accelerator": "GPU"
  },
  "cells": [
    {
      "cell_type": "markdown",
      "metadata": {
        "id": "view-in-github",
        "colab_type": "text"
      },
      "source": [
        "<a href=\"https://colab.research.google.com/github/mattrothery/street-fighter-agent/blob/main/Streetfighter_Agent.ipynb\" target=\"_parent\"><img src=\"https://colab.research.google.com/assets/colab-badge.svg\" alt=\"Open In Colab\"/></a>"
      ]
    },
    {
      "cell_type": "code",
      "metadata": {
        "colab": {
          "base_uri": "https://localhost:8080/"
        },
        "id": "IZK5GASEPxPc",
        "outputId": "9be44e6f-d772-4d04-8fb4-79a94cd32749"
      },
      "source": [
        "# Install necessary packages and set TensorFlow to version 1\n",
        "!pip install gym\n",
        "!pip install gym-retro\n",
        "!pip install stable-baselines\n",
        "!apt install ffmpeg\n",
        "%tensorflow_version 1.x"
      ],
      "execution_count": null,
      "outputs": [
        {
          "output_type": "stream",
          "name": "stdout",
          "text": [
            "Requirement already satisfied: gym in /usr/local/lib/python3.7/dist-packages (0.20.0)\n",
            "Requirement already satisfied: numpy>=1.18.0 in /usr/local/lib/python3.7/dist-packages (from gym) (1.19.5)\n",
            "Requirement already satisfied: cloudpickle>=1.2.0 in /usr/local/lib/python3.7/dist-packages (from gym) (1.3.0)\n",
            "Requirement already satisfied: gym-retro in /usr/local/lib/python3.7/dist-packages (0.8.0)\n",
            "Requirement already satisfied: gym in /usr/local/lib/python3.7/dist-packages (from gym-retro) (0.20.0)\n",
            "Requirement already satisfied: pyglet==1.*,>=1.3.2 in /usr/local/lib/python3.7/dist-packages (from gym-retro) (1.5.0)\n",
            "Requirement already satisfied: future in /usr/local/lib/python3.7/dist-packages (from pyglet==1.*,>=1.3.2->gym-retro) (0.16.0)\n",
            "Requirement already satisfied: numpy>=1.18.0 in /usr/local/lib/python3.7/dist-packages (from gym->gym-retro) (1.19.5)\n",
            "Requirement already satisfied: cloudpickle>=1.2.0 in /usr/local/lib/python3.7/dist-packages (from gym->gym-retro) (1.3.0)\n",
            "Requirement already satisfied: stable-baselines in /usr/local/lib/python3.7/dist-packages (2.10.2)\n",
            "Requirement already satisfied: matplotlib in /usr/local/lib/python3.7/dist-packages (from stable-baselines) (3.2.2)\n",
            "Requirement already satisfied: numpy in /usr/local/lib/python3.7/dist-packages (from stable-baselines) (1.19.5)\n",
            "Requirement already satisfied: scipy in /usr/local/lib/python3.7/dist-packages (from stable-baselines) (1.4.1)\n",
            "Requirement already satisfied: pandas in /usr/local/lib/python3.7/dist-packages (from stable-baselines) (1.1.5)\n",
            "Requirement already satisfied: gym[atari,classic_control]>=0.11 in /usr/local/lib/python3.7/dist-packages (from stable-baselines) (0.20.0)\n",
            "Requirement already satisfied: opencv-python in /usr/local/lib/python3.7/dist-packages (from stable-baselines) (4.1.2.30)\n",
            "Requirement already satisfied: joblib in /usr/local/lib/python3.7/dist-packages (from stable-baselines) (1.0.1)\n",
            "Requirement already satisfied: cloudpickle>=0.5.5 in /usr/local/lib/python3.7/dist-packages (from stable-baselines) (1.3.0)\n",
            "Requirement already satisfied: ale-py~=0.7 in /usr/local/lib/python3.7/dist-packages (from gym[atari,classic_control]>=0.11->stable-baselines) (0.7.1)\n",
            "Requirement already satisfied: pyglet>=1.4.0 in /usr/local/lib/python3.7/dist-packages (from gym[atari,classic_control]>=0.11->stable-baselines) (1.5.0)\n",
            "Requirement already satisfied: importlib-resources in /usr/local/lib/python3.7/dist-packages (from ale-py~=0.7->gym[atari,classic_control]>=0.11->stable-baselines) (5.2.2)\n",
            "Requirement already satisfied: importlib-metadata in /usr/local/lib/python3.7/dist-packages (from ale-py~=0.7->gym[atari,classic_control]>=0.11->stable-baselines) (4.8.1)\n",
            "Requirement already satisfied: future in /usr/local/lib/python3.7/dist-packages (from pyglet>=1.4.0->gym[atari,classic_control]>=0.11->stable-baselines) (0.16.0)\n",
            "Requirement already satisfied: zipp>=0.5 in /usr/local/lib/python3.7/dist-packages (from importlib-metadata->ale-py~=0.7->gym[atari,classic_control]>=0.11->stable-baselines) (3.5.0)\n",
            "Requirement already satisfied: typing-extensions>=3.6.4 in /usr/local/lib/python3.7/dist-packages (from importlib-metadata->ale-py~=0.7->gym[atari,classic_control]>=0.11->stable-baselines) (3.7.4.3)\n",
            "Requirement already satisfied: kiwisolver>=1.0.1 in /usr/local/lib/python3.7/dist-packages (from matplotlib->stable-baselines) (1.3.2)\n",
            "Requirement already satisfied: cycler>=0.10 in /usr/local/lib/python3.7/dist-packages (from matplotlib->stable-baselines) (0.10.0)\n",
            "Requirement already satisfied: python-dateutil>=2.1 in /usr/local/lib/python3.7/dist-packages (from matplotlib->stable-baselines) (2.8.2)\n",
            "Requirement already satisfied: pyparsing!=2.0.4,!=2.1.2,!=2.1.6,>=2.0.1 in /usr/local/lib/python3.7/dist-packages (from matplotlib->stable-baselines) (2.4.7)\n",
            "Requirement already satisfied: six in /usr/local/lib/python3.7/dist-packages (from cycler>=0.10->matplotlib->stable-baselines) (1.15.0)\n",
            "Requirement already satisfied: pytz>=2017.2 in /usr/local/lib/python3.7/dist-packages (from pandas->stable-baselines) (2018.9)\n",
            "Reading package lists... Done\n",
            "Building dependency tree       \n",
            "Reading state information... Done\n",
            "ffmpeg is already the newest version (7:3.4.8-0ubuntu0.2).\n",
            "0 upgraded, 0 newly installed, 0 to remove and 37 not upgraded.\n",
            "TensorFlow 1.x selected.\n"
          ]
        }
      ]
    },
    {
      "cell_type": "code",
      "metadata": {
        "colab": {
          "base_uri": "https://localhost:8080/"
        },
        "id": "4yt2jkjfTD7g",
        "outputId": "f94dcaed-a43f-4063-d4e9-70e9ea12e621"
      },
      "source": [
        "# Once Google Drive is mounted, this directory is where the ROM file should be uploaded to\n",
        "!python -m retro.import /content/drive/MyDrive/rom"
      ],
      "execution_count": null,
      "outputs": [
        {
          "output_type": "stream",
          "name": "stdout",
          "text": [
            "Importing StreetFighterIISpecialChampionEdition-Genesis\n",
            "Imported 1 games\n"
          ]
        }
      ]
    },
    {
      "cell_type": "code",
      "metadata": {
        "colab": {
          "base_uri": "https://localhost:8080/"
        },
        "id": "npFVWE0QTlG6",
        "outputId": "bc0134d3-1de5-4470-d4b0-2663d3bc2cec"
      },
      "source": [
        "# Import OpenAI Gym Retro and PPO2 model from Stable Baselines\n",
        "import retro\n",
        "from stable_baselines import PPO2\n",
        "from stable_baselines.common.policies import MlpPolicy, CnnPolicy\n",
        "from stable_baselines.common.vec_env import SubprocVecEnv"
      ],
      "execution_count": null,
      "outputs": [
        {
          "output_type": "stream",
          "name": "stdout",
          "text": [
            "WARNING:tensorflow:\n",
            "The TensorFlow contrib module will not be included in TensorFlow 2.0.\n",
            "For more information, please see:\n",
            "  * https://github.com/tensorflow/community/blob/master/rfcs/20180907-contrib-sunset.md\n",
            "  * https://github.com/tensorflow/addons\n",
            "  * https://github.com/tensorflow/io (for I/O related ops)\n",
            "If you depend on functionality not listed there, please file an issue.\n",
            "\n"
          ]
        }
      ]
    },
    {
      "cell_type": "code",
      "metadata": {
        "id": "W4UrxyOBJGGB"
      },
      "source": [
        "# Create the environment and place in a vector environment wrapper\n",
        "env = retro.make('StreetFighterIISpecialChampionEdition-Genesis')\n",
        "env = SubprocVecEnv([lambda: env])"
      ],
      "execution_count": null,
      "outputs": []
    },
    {
      "cell_type": "code",
      "metadata": {
        "id": "h9x04yG6JFRg"
      },
      "source": [
        "# Define the model to be used, and the learning policy\n",
        "model = PPO2(CnnPolicy, env, verbose=1)\n",
        "\n",
        "# Uncomment here to load a presaved model\n",
        "#model = PPO2.load('sf2-ppo2.pkl')\n",
        "\n",
        "# Train model for 10000 timesteps (frames) and save\n",
        "model.set_env(env)\n",
        "model.learn(total_timesteps=10000)\n",
        "model.save(\"sf2-ppo2\")\n",
        "\n",
        "# Close environment after training\n",
        "env.close()"
      ],
      "execution_count": null,
      "outputs": []
    },
    {
      "cell_type": "code",
      "metadata": {
        "colab": {
          "base_uri": "https://localhost:8080/"
        },
        "id": "zBf2wvx8KBrx",
        "outputId": "c41b17f4-facc-4d15-ee7b-0cf36d938ffa"
      },
      "source": [
        "# Now that model has been trained, make a new environment to record performance.\n",
        "env = SubprocVecEnv([lambda: retro.make('StreetFighterIISpecialChampionEdition-Genesis', record='.')])\n",
        "model = PPO2.load('sf2-ppo2')\n",
        "model.set_env(env)\n",
        "\n",
        "# Define environment variables and done condition\n",
        "obs = env.reset()\n",
        "done = False\n",
        "reward = 0\n",
        "\n",
        "# Let the agent play the game until game over, then print its total reward\n",
        "while not done:\n",
        "  actions, _states = model.predict(obs)\n",
        "  obs, rew, done, info = env.step(actions)\n",
        "  reward += rew\n",
        "print(reward)"
      ],
      "execution_count": null,
      "outputs": [
        {
          "output_type": "stream",
          "name": "stdout",
          "text": [
            "Loading a model without an environment, this model cannot be trained until it has a valid environment.\n",
            "[22900.]\n"
          ]
        }
      ]
    },
    {
      "cell_type": "code",
      "metadata": {
        "colab": {
          "base_uri": "https://localhost:8080/"
        },
        "id": "EjfFvFkZBzo8",
        "outputId": "f8a4883d-0e0c-4ec5-a0fa-a98295489ace"
      },
      "source": [
        "# Export an mp4 file of the agent playing the game\n",
        "!python -m retro.scripts.playback_movie StreetFighterIISpecialChampionEdition-Genesis-Champion.Level1.RyuVsGuile-000000.bk2"
      ],
      "execution_count": null,
      "outputs": [
        {
          "output_type": "stream",
          "name": "stdout",
          "text": [
            "ffmpeg version 3.4.8-0ubuntu0.2 Copyright (c) 2000-2020 the FFmpeg developers\n",
            "  built with gcc 7 (Ubuntu 7.5.0-3ubuntu1~18.04)\n",
            "  configuration: --prefix=/usr --extra-version=0ubuntu0.2 --toolchain=hardened --libdir=/usr/lib/x86_64-linux-gnu --incdir=/usr/include/x86_64-linux-gnu --enable-gpl --disable-stripping --enable-avresample --enable-avisynth --enable-gnutls --enable-ladspa --enable-libass --enable-libbluray --enable-libbs2b --enable-libcaca --enable-libcdio --enable-libflite --enable-libfontconfig --enable-libfreetype --enable-libfribidi --enable-libgme --enable-libgsm --enable-libmp3lame --enable-libmysofa --enable-libopenjpeg --enable-libopenmpt --enable-libopus --enable-libpulse --enable-librubberband --enable-librsvg --enable-libshine --enable-libsnappy --enable-libsoxr --enable-libspeex --enable-libssh --enable-libtheora --enable-libtwolame --enable-libvorbis --enable-libvpx --enable-libwavpack --enable-libwebp --enable-libx265 --enable-libxml2 --enable-libxvid --enable-libzmq --enable-libzvbi --enable-omx --enable-openal --enable-opengl --enable-sdl2 --enable-libdc1394 --enable-libdrm --enable-libiec61883 --enable-chromaprint --enable-frei0r --enable-libopencv --enable-libx264 --enable-shared\n",
            "  libavutil      55. 78.100 / 55. 78.100\n",
            "  libavcodec     57.107.100 / 57.107.100\n",
            "  libavformat    57. 83.100 / 57. 83.100\n",
            "  libavdevice    57. 10.100 / 57. 10.100\n",
            "  libavfilter     6.107.100 /  6.107.100\n",
            "  libavresample   3.  7.  0 /  3.  7.  0\n",
            "  libswscale      4.  8.100 /  4.  8.100\n",
            "  libswresample   2.  9.100 /  2.  9.100\n",
            "  libpostproc    54.  7.100 / 54.  7.100\n",
            "Input #0, rawvideo, from 'tcp://127.0.0.1:37385?listen':\n",
            "  Duration: N/A, start: 0.000000, bitrate: 73633 kb/s\n",
            "    Stream #0:0: Video: rawvideo (RGB[24] / 0x18424752), rgb24, 256x200, 73633 kb/s, 59.92 tbr, 59.92 tbn, 59.92 tbc\n",
            "\u001b[0;33mGuessed Channel Layout for Input Stream #1.0 : stereo\n",
            "\u001b[0mInput #1, s16le, from 'tcp://127.0.0.1:55957?listen':\n",
            "  Duration: N/A, bitrate: 1411 kb/s\n",
            "    Stream #1:0: Audio: pcm_s16le, 44100 Hz, stereo, s16, 1411 kb/s\n",
            "Stream mapping:\n",
            "  Stream #0:0 -> #0:0 (rawvideo (native) -> h264 (libx264))\n",
            "  Stream #1:0 -> #0:1 (pcm_s16le (native) -> aac (native))\n",
            "Press [q] to stop, [?] for help\n",
            "\u001b[1;36m[libx264 @ 0x5593690ac800] \u001b[0musing cpu capabilities: MMX2 SSE2Fast SSSE3 SSE4.2 AVX FMA3 BMI2 AVX2\n",
            "\u001b[1;36m[libx264 @ 0x5593690ac800] \u001b[0mprofile High, level 2.1\n",
            "\u001b[1;36m[libx264 @ 0x5593690ac800] \u001b[0m264 - core 152 r2854 e9a5903 - H.264/MPEG-4 AVC codec - Copyleft 2003-2017 - http://www.videolan.org/x264.html - options: cabac=1 ref=5 deblock=1:0:0 analyse=0x3:0x113 me=hex subme=8 psy=1 psy_rd=1.00:0.00 mixed_ref=1 me_range=16 chroma_me=1 trellis=2 8x8dct=1 cqm=0 deadzone=21,11 fast_pskip=1 chroma_qp_offset=-2 threads=3 lookahead_threads=1 sliced_threads=0 nr=0 decimate=1 interlaced=0 bluray_compat=0 constrained_intra=0 bframes=3 b_pyramid=2 b_adapt=1 b_bias=0 direct=3 weightb=1 open_gop=0 weightp=2 keyint=250 keyint_min=25 scenecut=40 intra_refresh=0 rc_lookahead=50 rc=crf mbtree=1 crf=17.0 qcomp=0.60 qpmin=0 qpmax=69 qpstep=4 ip_ratio=1.40 aq=1:1.00\n",
            "Output #0, mp4, to 'StreetFighterIISpecialChampionEdition-Genesis-Champion.Level1.RyuVsGuile-000000.mp4':\n",
            "  Metadata:\n",
            "    encoder         : Lavf57.83.100\n",
            "    Stream #0:0: Video: h264 (libx264) (avc1 / 0x31637661), yuv420p(progressive), 256x200, q=-1--1, 59.92 fps, 152024 tbn, 59.92 tbc\n",
            "    Metadata:\n",
            "      encoder         : Lavc57.107.100 libx264\n",
            "    Side data:\n",
            "      cpb: bitrate max/min/avg: 0/0/0 buffer size: 0 vbv_delay: -1\n",
            "    Stream #0:1: Audio: aac (LC) (mp4a / 0x6134706D), 44100 Hz, stereo, fltp, 128 kb/s\n",
            "    Metadata:\n",
            "      encoder         : Lavc57.107.100 aac\n",
            "\u001b[0;35m[s16le @ 0x55936908c600] \u001b[0m\u001b[0;33mThread message queue blocking; consider raising the thread_queue_size option (current value: 60)\n",
            "frame= 9481 fps=153 q=-1.0 Lsize=   14536kB time=00:02:38.22 bitrate= 752.6kbits/s speed=2.56x    \n",
            "video:11947kB audio:2340kB subtitle:0kB other streams:0kB global headers:0kB muxing overhead: 1.742206%\n",
            "\u001b[1;36m[libx264 @ 0x5593690ac800] \u001b[0mframe I:39    Avg QP:16.48  size: 25746\n",
            "\u001b[1;36m[libx264 @ 0x5593690ac800] \u001b[0mframe P:3373  Avg QP:21.01  size:  2616\n",
            "\u001b[1;36m[libx264 @ 0x5593690ac800] \u001b[0mframe B:6069  Avg QP:29.21  size:   396\n",
            "\u001b[1;36m[libx264 @ 0x5593690ac800] \u001b[0mconsecutive B-frames:  9.2% 12.4% 11.9% 66.5%\n",
            "\u001b[1;36m[libx264 @ 0x5593690ac800] \u001b[0mmb I  I16..4:  8.1%  8.2% 83.6%\n",
            "\u001b[1;36m[libx264 @ 0x5593690ac800] \u001b[0mmb P  I16..4:  0.5%  0.2%  1.4%  P16..4: 28.5%  8.7%  9.0%  0.0%  0.0%    skip:51.8%\n",
            "\u001b[1;36m[libx264 @ 0x5593690ac800] \u001b[0mmb B  I16..4:  0.0%  0.0%  0.1%  B16..8: 11.7%  2.6%  1.8%  direct: 2.0%  skip:81.8%  L0:46.7% L1:47.6% BI: 5.7%\n",
            "\u001b[1;36m[libx264 @ 0x5593690ac800] \u001b[0m8x8 transform intra:10.0% inter:6.1%\n",
            "\u001b[1;36m[libx264 @ 0x5593690ac800] \u001b[0mdirect mvs  spatial:99.9% temporal:0.1%\n",
            "\u001b[1;36m[libx264 @ 0x5593690ac800] \u001b[0mcoded y,uvDC,uvAC intra: 67.8% 82.4% 78.7% inter: 6.0% 14.0% 11.4%\n",
            "\u001b[1;36m[libx264 @ 0x5593690ac800] \u001b[0mi16 v,h,dc,p: 23% 71%  4%  2%\n",
            "\u001b[1;36m[libx264 @ 0x5593690ac800] \u001b[0mi8 v,h,dc,ddl,ddr,vr,hd,vl,hu: 11% 29% 49%  1%  1%  1%  2%  1%  3%\n",
            "\u001b[1;36m[libx264 @ 0x5593690ac800] \u001b[0mi4 v,h,dc,ddl,ddr,vr,hd,vl,hu: 12% 21% 19%  7%  7%  8%  7%  8% 11%\n",
            "\u001b[1;36m[libx264 @ 0x5593690ac800] \u001b[0mi8c dc,h,v,p: 43% 42%  8%  6%\n",
            "\u001b[1;36m[libx264 @ 0x5593690ac800] \u001b[0mWeighted P-Frames: Y:1.4% UV:1.3%\n",
            "\u001b[1;36m[libx264 @ 0x5593690ac800] \u001b[0mref P L0: 56.4%  2.9% 18.2% 12.1%  8.6%  1.8%  0.0%\n",
            "\u001b[1;36m[libx264 @ 0x5593690ac800] \u001b[0mref B L0: 85.3%  9.3%  4.1%  1.3%\n",
            "\u001b[1;36m[libx264 @ 0x5593690ac800] \u001b[0mref B L1: 96.9%  3.1%\n",
            "\u001b[1;36m[libx264 @ 0x5593690ac800] \u001b[0mkb/s:618.54\n",
            "\u001b[1;36m[aac @ 0x5593690ad700] \u001b[0mQavg: 4440.049\n"
          ]
        }
      ]
    }
  ]
}